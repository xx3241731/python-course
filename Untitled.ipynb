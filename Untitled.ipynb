{
 "cells": [
  {
   "cell_type": "code",
   "execution_count": 10,
   "metadata": {},
   "outputs": [
    {
     "name": "stdout",
     "output_type": "stream",
     "text": [
      "[22.49134948096886, 24.801587301587304, 22.498173849525198]\n"
     ]
    }
   ],
   "source": [
    "names = [\"Richard\", \"Tom\", \"Mary\"]\n",
    "heights = [1.70, 1.68, 1.85]\n",
    "weights = [65, 70, 77]\n",
    "bmis = list()\n",
    "for i in range(len(names)):\n",
    "    bmi = weights[i] / heights[i] ** 2\n",
    "    bmis.append(bmi)\n",
    "    #print(names[i], \"的BMI是\", round(bmi, 2))\n",
    "print(bmis)"
   ]
  },
  {
   "cell_type": "code",
   "execution_count": null,
   "metadata": {},
   "outputs": [],
   "source": []
  }
 ],
 "metadata": {
  "kernelspec": {
   "display_name": "Python 3",
   "language": "python",
   "name": "python3"
  },
  "language_info": {
   "codemirror_mode": {
    "name": "ipython",
    "version": 3
   },
   "file_extension": ".py",
   "mimetype": "text/x-python",
   "name": "python",
   "nbconvert_exporter": "python",
   "pygments_lexer": "ipython3",
   "version": "3.7.4"
  }
 },
 "nbformat": 4,
 "nbformat_minor": 2
}
